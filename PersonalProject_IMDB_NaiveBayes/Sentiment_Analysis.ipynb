{
 "cells": [
  {
   "cell_type": "markdown",
   "id": "a13f8ff5",
   "metadata": {},
   "source": [
    "# Sentiment Analysis"
   ]
  },
  {
   "cell_type": "markdown",
   "id": "2f2f4a3a",
   "metadata": {},
   "source": [
    "Outline:\n",
    "1. Perform an initial training using data available.\n",
    "    1. Create x and y data using vectorizer.\n",
    "    2. split test and train data\n",
    "    3. Discuss results. Is it overfit? overconfident?\n"
   ]
  },
  {
   "cell_type": "code",
   "execution_count": 1,
   "id": "2958c507",
   "metadata": {},
   "outputs": [
    {
     "data": {
      "text/html": [
       "<div>\n",
       "<style scoped>\n",
       "    .dataframe tbody tr th:only-of-type {\n",
       "        vertical-align: middle;\n",
       "    }\n",
       "\n",
       "    .dataframe tbody tr th {\n",
       "        vertical-align: top;\n",
       "    }\n",
       "\n",
       "    .dataframe thead th {\n",
       "        text-align: right;\n",
       "    }\n",
       "</style>\n",
       "<table border=\"1\" class=\"dataframe\">\n",
       "  <thead>\n",
       "    <tr style=\"text-align: right;\">\n",
       "      <th></th>\n",
       "      <th>content</th>\n",
       "      <th>title</th>\n",
       "      <th>author</th>\n",
       "      <th>date</th>\n",
       "      <th>rating</th>\n",
       "      <th>imdb_ID</th>\n",
       "    </tr>\n",
       "  </thead>\n",
       "  <tbody>\n",
       "    <tr>\n",
       "      <th>0</th>\n",
       "      <td>Toy Story is just a wonderful film, that I rec...</td>\n",
       "      <td>Toy story</td>\n",
       "      <td>ur20552756</td>\n",
       "      <td>16 June 2009</td>\n",
       "      <td>10.0</td>\n",
       "      <td>114709</td>\n",
       "    </tr>\n",
       "    <tr>\n",
       "      <th>1</th>\n",
       "      <td>Toy Story (1995) *** 1/2 (out of 4) A kid's to...</td>\n",
       "      <td>Toy story</td>\n",
       "      <td>ur13134536</td>\n",
       "      <td>22 December 2010</td>\n",
       "      <td>-1.0</td>\n",
       "      <td>114709</td>\n",
       "    </tr>\n",
       "    <tr>\n",
       "      <th>2</th>\n",
       "      <td>I can see why this was a big hit at the time. ...</td>\n",
       "      <td>Toy story</td>\n",
       "      <td>ur0482513</td>\n",
       "      <td>18 September 2021</td>\n",
       "      <td>6.0</td>\n",
       "      <td>114709</td>\n",
       "    </tr>\n",
       "    <tr>\n",
       "      <th>3</th>\n",
       "      <td>Andy's toys come to life. Woody (Tom Hanks) is...</td>\n",
       "      <td>Toy story</td>\n",
       "      <td>ur2898520</td>\n",
       "      <td>25 November 2013</td>\n",
       "      <td>10.0</td>\n",
       "      <td>114709</td>\n",
       "    </tr>\n",
       "    <tr>\n",
       "      <th>4</th>\n",
       "      <td>What a wonderful integration of classic toys a...</td>\n",
       "      <td>Toy story</td>\n",
       "      <td>ur0278527</td>\n",
       "      <td>3 January 2015</td>\n",
       "      <td>10.0</td>\n",
       "      <td>114709</td>\n",
       "    </tr>\n",
       "  </tbody>\n",
       "</table>\n",
       "</div>"
      ],
      "text/plain": [
       "                                             content      title      author  \\\n",
       "0  Toy Story is just a wonderful film, that I rec...  Toy story  ur20552756   \n",
       "1  Toy Story (1995) *** 1/2 (out of 4) A kid's to...  Toy story  ur13134536   \n",
       "2  I can see why this was a big hit at the time. ...  Toy story   ur0482513   \n",
       "3  Andy's toys come to life. Woody (Tom Hanks) is...  Toy story   ur2898520   \n",
       "4  What a wonderful integration of classic toys a...  Toy story   ur0278527   \n",
       "\n",
       "                date  rating  imdb_ID  \n",
       "0       16 June 2009    10.0   114709  \n",
       "1   22 December 2010    -1.0   114709  \n",
       "2  18 September 2021     6.0   114709  \n",
       "3   25 November 2013    10.0   114709  \n",
       "4     3 January 2015    10.0   114709  "
      ]
     },
     "execution_count": 1,
     "metadata": {},
     "output_type": "execute_result"
    }
   ],
   "source": [
    "from sklearn.model_selection import train_test_split\n",
    "from sklearn.naive_bayes import MultinomialNB\n",
    "import pandas as pd\n",
    "import numpy as np\n",
    "\n",
    "\n",
    "review_day_1,review_day_2,review_day_3 = 'reviews_day_1.csv','reviews_day_2.csv','reviews_day_3.csv'\n",
    "df1,df2,df3 = pd.read_csv(review_day_1, delimiter='\\t'), pd.read_csv(review_day_2, delimiter='\\t'), pd.read_csv(review_day_3, delimiter='\\t')\n",
    "dfs = pd.concat([df1,df2,df3], ignore_index=True)\n",
    "dfs.head(5)"
   ]
  },
  {
   "cell_type": "code",
   "execution_count": 2,
   "id": "52a9da12",
   "metadata": {},
   "outputs": [
    {
     "name": "stdout",
     "output_type": "stream",
     "text": [
      "5961\n",
      "37774\n",
      "0\n",
      "ratio of bad data: 0.159\n"
     ]
    },
    {
     "data": {
      "text/html": [
       "<div>\n",
       "<style scoped>\n",
       "    .dataframe tbody tr th:only-of-type {\n",
       "        vertical-align: middle;\n",
       "    }\n",
       "\n",
       "    .dataframe tbody tr th {\n",
       "        vertical-align: top;\n",
       "    }\n",
       "\n",
       "    .dataframe thead th {\n",
       "        text-align: right;\n",
       "    }\n",
       "</style>\n",
       "<table border=\"1\" class=\"dataframe\">\n",
       "  <thead>\n",
       "    <tr style=\"text-align: right;\">\n",
       "      <th></th>\n",
       "      <th>content</th>\n",
       "      <th>title</th>\n",
       "      <th>author</th>\n",
       "      <th>date</th>\n",
       "      <th>rating</th>\n",
       "      <th>imdb_ID</th>\n",
       "    </tr>\n",
       "  </thead>\n",
       "  <tbody>\n",
       "    <tr>\n",
       "      <th>0</th>\n",
       "      <td>Toy Story is just a wonderful film, that I rec...</td>\n",
       "      <td>Toy story</td>\n",
       "      <td>ur20552756</td>\n",
       "      <td>16 June 2009</td>\n",
       "      <td>10.0</td>\n",
       "      <td>114709</td>\n",
       "    </tr>\n",
       "    <tr>\n",
       "      <th>1</th>\n",
       "      <td>Toy Story (1995) *** 1/2 (out of 4) A kid's to...</td>\n",
       "      <td>Toy story</td>\n",
       "      <td>ur13134536</td>\n",
       "      <td>22 December 2010</td>\n",
       "      <td>-1.0</td>\n",
       "      <td>114709</td>\n",
       "    </tr>\n",
       "    <tr>\n",
       "      <th>2</th>\n",
       "      <td>I can see why this was a big hit at the time. ...</td>\n",
       "      <td>Toy story</td>\n",
       "      <td>ur0482513</td>\n",
       "      <td>18 September 2021</td>\n",
       "      <td>6.0</td>\n",
       "      <td>114709</td>\n",
       "    </tr>\n",
       "    <tr>\n",
       "      <th>3</th>\n",
       "      <td>Andy's toys come to life. Woody (Tom Hanks) is...</td>\n",
       "      <td>Toy story</td>\n",
       "      <td>ur2898520</td>\n",
       "      <td>25 November 2013</td>\n",
       "      <td>10.0</td>\n",
       "      <td>114709</td>\n",
       "    </tr>\n",
       "    <tr>\n",
       "      <th>4</th>\n",
       "      <td>What a wonderful integration of classic toys a...</td>\n",
       "      <td>Toy story</td>\n",
       "      <td>ur0278527</td>\n",
       "      <td>3 January 2015</td>\n",
       "      <td>10.0</td>\n",
       "      <td>114709</td>\n",
       "    </tr>\n",
       "  </tbody>\n",
       "</table>\n",
       "</div>"
      ],
      "text/plain": [
       "                                             content      title      author  \\\n",
       "0  Toy Story is just a wonderful film, that I rec...  Toy story  ur20552756   \n",
       "1  Toy Story (1995) *** 1/2 (out of 4) A kid's to...  Toy story  ur13134536   \n",
       "2  I can see why this was a big hit at the time. ...  Toy story   ur0482513   \n",
       "3  Andy's toys come to life. Woody (Tom Hanks) is...  Toy story   ur2898520   \n",
       "4  What a wonderful integration of classic toys a...  Toy story   ur0278527   \n",
       "\n",
       "                date  rating  imdb_ID  \n",
       "0       16 June 2009    10.0   114709  \n",
       "1   22 December 2010    -1.0   114709  \n",
       "2  18 September 2021     6.0   114709  \n",
       "3   25 November 2013    10.0   114709  \n",
       "4     3 January 2015    10.0   114709  "
      ]
     },
     "execution_count": 2,
     "metadata": {},
     "output_type": "execute_result"
    }
   ],
   "source": [
    "# Before cleaning lets see how bad it is\n",
    "print(len(dfs[dfs.rating == -1]))\n",
    "print(len(dfs))\n",
    "print(len(dfs[dfs.rating == 'NaN']))\n",
    "print('ratio of bad data:', str(2984/18662)[0:5])\n",
    "dfs.head(5)"
   ]
  },
  {
   "cell_type": "code",
   "execution_count": 3,
   "id": "084ebd14",
   "metadata": {},
   "outputs": [],
   "source": [
    "# Remove -1\n",
    "dfs = dfs.drop(dfs[dfs.rating == -1].index)"
   ]
  },
  {
   "cell_type": "code",
   "execution_count": 4,
   "id": "3833e956",
   "metadata": {},
   "outputs": [],
   "source": [
    "#The ratings given are a continuous variable. We convert it to a Boolean Y value for NB Classifier.\n",
    "# if rating>8, it is'Fresh' i.e. a favourable rating/review. for NB classifier.\n",
    "\n",
    "dfs['Fresh'] = pd.to_numeric(dfs.rating > 5.0)\n",
    "#Note if rating greater than 8, this is represented as 1."
   ]
  },
  {
   "cell_type": "code",
   "execution_count": 5,
   "id": "22b43db7",
   "metadata": {},
   "outputs": [],
   "source": [
    "def make_XY(dfs,SPECIAL_FUNCTION_VARIABLE=None): \n",
    "    \"\"\"Vectorizes then returns X and Y\"\"\"\n",
    "    if SPECIAL_FUNCTION_VARIABLE is None:\n",
    "        SPECIAL_FUNCTION_VARIABLE = CountVectorizer()\n",
    "        \n",
    "    X = SPECIAL_FUNCTION_VARIABLE.fit_transform(dfs.content) #vectorises the data.\n",
    "    X = X.tocsc()  # some versions of sklearn return COO format\n",
    "    \n",
    "    Y = (dfs.Fresh).values.astype(int)\n",
    "    return X, Y"
   ]
  },
  {
   "cell_type": "code",
   "execution_count": 6,
   "id": "7bab9272",
   "metadata": {},
   "outputs": [],
   "source": [
    "#split the test and train data.\n",
    "from sklearn.feature_extraction.text import CountVectorizer\n",
    "\n",
    "# Use countvectoriser to Y, get X from labels.\n",
    "X,Y = make_XY(dfs)\n",
    "\n",
    "#Split data\n",
    "x_train,x_test,y_train,y_test = train_test_split(X,Y)"
   ]
  },
  {
   "cell_type": "code",
   "execution_count": 7,
   "id": "5bbebf9c",
   "metadata": {},
   "outputs": [
    {
     "name": "stdout",
     "output_type": "stream",
     "text": [
      "[1 1 1 ... 0 1 1]\n"
     ]
    }
   ],
   "source": [
    "print(y_train)"
   ]
  },
  {
   "cell_type": "code",
   "execution_count": 8,
   "id": "8e21a491",
   "metadata": {},
   "outputs": [
    {
     "name": "stdout",
     "output_type": "stream",
     "text": [
      "The average score for the training data is 88.20%. The score for the test data is 80.60%\n"
     ]
    }
   ],
   "source": [
    "#This is correct. \n",
    "#Training involves \n",
    "clf = MultinomialNB().fit(X = x_train , y = y_train)\n",
    "\n",
    "training_accuracy = clf.score(x_train , y_train)\n",
    "testing_accuracy = clf.score(x_test , y_test)\n",
    "\n",
    "print (f'The average score for the training data is {str(training_accuracy*100)[:5]}%. The score for the test data is {str(testing_accuracy*100)[:5]}%')"
   ]
  },
  {
   "cell_type": "markdown",
   "id": "436328f5",
   "metadata": {},
   "source": [
    "#### Interpretation\n",
    "The percentage error on the test data (23.29%) is significantly larger than the error on the training data (13.71%). This indicates that the model is overfit. The difference in accuracy could also be a result of randomness, i.e. the choice of train and test data. (However, this is quite unlikely.) \n",
    "\n"
   ]
  },
  {
   "cell_type": "markdown",
   "id": "aae025de",
   "metadata": {},
   "source": [
    "#### Is the model Overfit?\n",
    "\n",
    "To test that overfitting has really occurred, cross-validation can be carried out. This involves using different test/train splits and training/scoring them. If the score of the prediction is consistently and significantly worse than the training score, then my model is overfit."
   ]
  },
  {
   "cell_type": "code",
   "execution_count": 9,
   "id": "539f487a",
   "metadata": {},
   "outputs": [],
   "source": [
    "from sklearn.model_selection import KFold\n",
    "import matplotlib.pyplot as plt"
   ]
  },
  {
   "cell_type": "code",
   "execution_count": 10,
   "id": "4222f99a",
   "metadata": {},
   "outputs": [],
   "source": [
    "# Cross-validation\n",
    "\n",
    "n_fold = 30\n",
    "KF_object = KFold(n_splits=n_fold)\n",
    "\n",
    "X,Y = make_XY(dfs)\n",
    "\n",
    "difference_list = []\n",
    "\n",
    "for train_index, test_index in KF_object.split(X):\n",
    "    # Step 1 : select train test splits from vectorized X data and Y boolean data.  \n",
    "    x_train =X[train_index]\n",
    "    x_test = X[test_index]\n",
    "    y_train =Y[train_index]\n",
    "    y_test= Y[test_index]\n",
    "\n",
    "    # Step 2 : train model and score against training and testing data.\n",
    "    \n",
    "    clf = MultinomialNB().fit(x_train , y_train)\n",
    "\n",
    "    training_accuracy = clf.score(x_train , y_train)\n",
    "    testing_accuracy = clf.score(x_test , y_test)\n",
    "    \n",
    "    error_ratio=(1-testing_accuracy)/(1-training_accuracy)\n",
    "    #testing error is bigger if overfit. testing error/training error = error ratio\n",
    "    \n",
    "    difference_list.append(error_ratio)"
   ]
  },
  {
   "cell_type": "code",
   "execution_count": 11,
   "id": "4244a098",
   "metadata": {},
   "outputs": [
    {
     "name": "stdout",
     "output_type": "stream",
     "text": [
      "[1.8153961447562876, 1.7843829627853058, 2.368152511024728, 2.2637121019283555, 1.5655681053971544, 2.043786861847492, 1.9680909273084901, 1.591524640837322, 1.5555399876137876, 1.9308710279492558, 1.7530068246596189, 1.5581267333842153, 0.9286128675091281, 1.5650060245912858, 1.323779850174436, 1.199312233718807, 1.1201377765711964, 1.4255600482827941, 1.7879091441681156, 1.6818703855619352, 1.7094886386935975, 1.7834257246707697, 1.6854475284578208, 1.7619352291039907, 1.810184968874109, 1.4332405942831314, 2.195752413767689, 1.7695522734302498, 1.8028653631083373, 1.6959298024246436]\n"
     ]
    }
   ],
   "source": [
    "print(difference_list)"
   ]
  },
  {
   "cell_type": "code",
   "execution_count": 12,
   "id": "189a23e9",
   "metadata": {},
   "outputs": [
    {
     "data": {
      "image/png": "[encoded data removed]",
      "text/plain": [
       "<Figure size 432x288 with 1 Axes>"
      ]
     },
     "metadata": {
      "needs_background": "light"
     },
     "output_type": "display_data"
    }
   ],
   "source": [
    "# Step 3 : plot histogram\n",
    "\n",
    "plt.xlabel(\"Prediction Error/Training Error\")\n",
    "plt.ylabel(\"Number of Folds\")\n",
    "\n",
    "plt.hist(difference_list,edgecolor='white')\n",
    "plt.show()"
   ]
  },
  {
   "cell_type": "markdown",
   "id": "a11fbbc9",
   "metadata": {},
   "source": [
    "Across 30 different folds, the testing score is between 0.2 to 1.4 times more inaccurate than the training score. This shows that the model is overfit. "
   ]
  },
  {
   "cell_type": "markdown",
   "id": "3cbed688",
   "metadata": {},
   "source": [
    "#### Model Calibration"
   ]
  },
  {
   "cell_type": "markdown",
   "id": "c0f17c56",
   "metadata": {},
   "source": [
    "In this section, the probabilities caluclated by the NB classifier will be callibrated. I.e. Does a prediction P(X) = A% result in A% success empirically?\n",
    "Two graphs will be made:\n",
    "1. The first one is a histogram of the predicted probabilities for all reviews.\n",
    "2. The second is a plot of Actual ratio of fresh reviews against P(fresh reviews) for different probability bins.\n"
   ]
  },
  {
   "cell_type": "code",
   "execution_count": 13,
   "id": "ccc2626b",
   "metadata": {},
   "outputs": [
    {
     "data": {
      "text/plain": [
       "array([0, 1])"
      ]
     },
     "execution_count": 13,
     "metadata": {},
     "output_type": "execute_result"
    }
   ],
   "source": [
    "clf.classes_ #the first is P(rotten review)\n",
    "#The second is P(fresh review)"
   ]
  },
  {
   "cell_type": "code",
   "execution_count": 14,
   "id": "aa704360",
   "metadata": {},
   "outputs": [],
   "source": [
    "X,Y = make_XY(dfs)\n",
    "x_train,x_test,y_train,y_test = train_test_split(X,Y)\n",
    "clf = MultinomialNB().fit(x_train , y_train)\n",
    "\n",
    "\n",
    "#def calibration_plot(clf, x_test, y_test):\n",
    "    \n",
    "prediction = clf.predict_proba(x_test) #list of p(loss),p(win))\n",
    "prediction = prediction[:,1] #get p(fresh only)\n",
    "outcome=y_test\n",
    "\n",
    "plot_data = pd.DataFrame(dict(prediction=prediction,outcome=outcome))\n",
    "\n",
    "# Bin the predicted probabilities\n",
    "bin_ends = np.linspace(0,1,21)\n",
    "plot_data['categories'] = pd.cut(plot_data.prediction,bins=bin_ends,include_lowest=True,precision=4)\n",
    "\n",
    "#Obtain the number of outcomes per bin and ratio of fresh outcomes\n",
    "plot_data_2 = plot_data.groupby('categories')['outcome'].agg(['mean', 'count'])"
   ]
  },
  {
   "cell_type": "code",
   "execution_count": 15,
   "id": "982550c4",
   "metadata": {},
   "outputs": [
    {
     "data": {
      "text/html": [
       "<div>\n",
       "<style scoped>\n",
       "    .dataframe tbody tr th:only-of-type {\n",
       "        vertical-align: middle;\n",
       "    }\n",
       "\n",
       "    .dataframe tbody tr th {\n",
       "        vertical-align: top;\n",
       "    }\n",
       "\n",
       "    .dataframe thead th {\n",
       "        text-align: right;\n",
       "    }\n",
       "</style>\n",
       "<table border=\"1\" class=\"dataframe\">\n",
       "  <thead>\n",
       "    <tr style=\"text-align: right;\">\n",
       "      <th></th>\n",
       "      <th>mean</th>\n",
       "      <th>count</th>\n",
       "    </tr>\n",
       "    <tr>\n",
       "      <th>categories</th>\n",
       "      <th></th>\n",
       "      <th></th>\n",
       "    </tr>\n",
       "  </thead>\n",
       "  <tbody>\n",
       "    <tr>\n",
       "      <th>(-0.0001, 0.05]</th>\n",
       "      <td>0.322733</td>\n",
       "      <td>1478</td>\n",
       "    </tr>\n",
       "    <tr>\n",
       "      <th>(0.05, 0.1]</th>\n",
       "      <td>0.507812</td>\n",
       "      <td>128</td>\n",
       "    </tr>\n",
       "    <tr>\n",
       "      <th>(0.1, 0.15]</th>\n",
       "      <td>0.559140</td>\n",
       "      <td>93</td>\n",
       "    </tr>\n",
       "    <tr>\n",
       "      <th>(0.15, 0.2]</th>\n",
       "      <td>0.588235</td>\n",
       "      <td>51</td>\n",
       "    </tr>\n",
       "    <tr>\n",
       "      <th>(0.2, 0.25]</th>\n",
       "      <td>0.720000</td>\n",
       "      <td>50</td>\n",
       "    </tr>\n",
       "  </tbody>\n",
       "</table>\n",
       "</div>"
      ],
      "text/plain": [
       "                     mean  count\n",
       "categories                      \n",
       "(-0.0001, 0.05]  0.322733   1478\n",
       "(0.05, 0.1]      0.507812    128\n",
       "(0.1, 0.15]      0.559140     93\n",
       "(0.15, 0.2]      0.588235     51\n",
       "(0.2, 0.25]      0.720000     50"
      ]
     },
     "execution_count": 15,
     "metadata": {},
     "output_type": "execute_result"
    }
   ],
   "source": [
    "plot_data_2.head()"
   ]
  },
  {
   "cell_type": "code",
   "execution_count": 16,
   "id": "db07554b",
   "metadata": {},
   "outputs": [],
   "source": [
    "#variables and Error bars (For second plot)\n",
    "\n",
    "#Error bars will be located in the middle of each bin.\n",
    "plot_data_2['x_mid'] = np.linspace(0.025,1.025,21)[:-1]\n",
    "plot_data_2['uncertainty'] = np.sqrt(1.96*1.96*plot_data_2.x_mid * (1 - plot_data_2.x_mid) / plot_data_2['count'])\n",
    "\n"
   ]
  },
  {
   "cell_type": "code",
   "execution_count": 17,
   "id": "80910049",
   "metadata": {},
   "outputs": [
    {
     "data": {
      "text/html": [
       "<div>\n",
       "<style scoped>\n",
       "    .dataframe tbody tr th:only-of-type {\n",
       "        vertical-align: middle;\n",
       "    }\n",
       "\n",
       "    .dataframe tbody tr th {\n",
       "        vertical-align: top;\n",
       "    }\n",
       "\n",
       "    .dataframe thead th {\n",
       "        text-align: right;\n",
       "    }\n",
       "</style>\n",
       "<table border=\"1\" class=\"dataframe\">\n",
       "  <thead>\n",
       "    <tr style=\"text-align: right;\">\n",
       "      <th></th>\n",
       "      <th>mean</th>\n",
       "      <th>count</th>\n",
       "      <th>x_mid</th>\n",
       "      <th>uncertainty</th>\n",
       "    </tr>\n",
       "    <tr>\n",
       "      <th>categories</th>\n",
       "      <th></th>\n",
       "      <th></th>\n",
       "      <th></th>\n",
       "      <th></th>\n",
       "    </tr>\n",
       "  </thead>\n",
       "  <tbody>\n",
       "    <tr>\n",
       "      <th>(-0.0001, 0.05]</th>\n",
       "      <td>0.322733</td>\n",
       "      <td>1478</td>\n",
       "      <td>0.025</td>\n",
       "      <td>0.00796</td>\n",
       "    </tr>\n",
       "    <tr>\n",
       "      <th>(0.05, 0.1]</th>\n",
       "      <td>0.507812</td>\n",
       "      <td>128</td>\n",
       "      <td>0.075</td>\n",
       "      <td>0.04563</td>\n",
       "    </tr>\n",
       "  </tbody>\n",
       "</table>\n",
       "</div>"
      ],
      "text/plain": [
       "                     mean  count  x_mid  uncertainty\n",
       "categories                                          \n",
       "(-0.0001, 0.05]  0.322733   1478  0.025      0.00796\n",
       "(0.05, 0.1]      0.507812    128  0.075      0.04563"
      ]
     },
     "execution_count": 17,
     "metadata": {},
     "output_type": "execute_result"
    }
   ],
   "source": [
    "plot_data_2.head(2)"
   ]
  },
  {
   "cell_type": "code",
   "execution_count": 18,
   "id": "1c033f85",
   "metadata": {},
   "outputs": [
    {
     "data": {
      "text/plain": [
       "[<matplotlib.lines.Line2D at 0x1d1566991c0>]"
      ]
     },
     "execution_count": 18,
     "metadata": {},
     "output_type": "execute_result"
    },
    {
     "data": {
      "image/png": "[encoded data removed]",
      "text/plain": [
       "<Figure size 432x288 with 1 Axes>"
      ]
     },
     "metadata": {
      "needs_background": "light"
     },
     "output_type": "display_data"
    }
   ],
   "source": [
    "#Plot1 - bar chart\n",
    "\n",
    "plt.errorbar(plot_data_2.x_mid, plot_data_2['mean'], plot_data_2.uncertainty, dash_capstyle = 'butt')#x,y,error,...\n",
    "\n",
    "plt.ylabel(\"Ratio of Fresh Reviews\")\n",
    "plt.xlabel(\"Predicted P(Fresh) probability\")\n",
    "\n",
    "#For straight line\n",
    "plt.plot(plot_data_2.x_mid, plot_data_2.x_mid, ls='--', lw=1, color='k')"
   ]
  },
  {
   "cell_type": "code",
   "execution_count": 19,
   "id": "3ef8a7cf",
   "metadata": {},
   "outputs": [
    {
     "data": {
      "text/plain": [
       "Text(0, 0.5, 'Number of reviews in category')"
      ]
     },
     "execution_count": 19,
     "metadata": {},
     "output_type": "execute_result"
    },
    {
     "data": {
      "image/png": "[encoded data removed]",
      "text/plain": [
       "<Figure size 432x288 with 1 Axes>"
      ]
     },
     "metadata": {
      "needs_background": "light"
     },
     "output_type": "display_data"
    }
   ],
   "source": [
    "#Plot 2\n",
    "\n",
    "plt.bar(align='edge', x=plot_data_2.x_mid - 0.05/ 2, height=plot_data_2['count'],width=.90 * (bin_ends[1] - bin_ends[0]))\n",
    "\n",
    "plt.xlabel(\"Predicted P(Fresh) probability\")\n",
    "plt.ylabel(\"Number of reviews in category\")"
   ]
  },
  {
   "cell_type": "code",
   "execution_count": 20,
   "id": "3ed48cda",
   "metadata": {},
   "outputs": [],
   "source": [
    "# Function for later\n",
    "def calibration_plot(clf, x_test, y_test):\n",
    "    \n",
    "    #Build Dataframe containing probabilities and the actual outcome for each review\n",
    "    prediction = clf.predict_proba(x_test) #list of p(loss),p(win))\n",
    "    prediction = prediction[:,1] #get p(fresh only)\n",
    "    outcome=y_test\n",
    "    plot_data = pd.DataFrame(dict(prediction=prediction,outcome=outcome))\n",
    "\n",
    "    # Bin the predicted probabilities\n",
    "    bin_ends = np.linspace(0,1,21)\n",
    "    plot_data['categories'] = pd.cut(plot_data.prediction,bins=bin_ends,include_lowest=True,precision=4)\n",
    "\n",
    "    #Obtain the number of outcomes per bin and ratio of fresh outcomes\n",
    "    plot_data_2 = plot_data.groupby('categories')['outcome'].agg(['mean', 'count'])\n",
    "\n",
    "    #variables and Error bars (For second plot)\n",
    "    #Error bars will be located in the middle of each bin.\n",
    "    plot_data_2['x_mid'] = np.linspace(0.025,1.025,21)[:-1]\n",
    "    plot_data_2['uncertainty'] = np.sqrt(1.96*1.96*plot_data_2.x_mid * (1 - plot_data_2.x_mid) / plot_data_2['count'])\n",
    "    \n",
    "    #Plot1 - graph with error bars.\n",
    "\n",
    "    plt.errorbar(plot_data_2.x_mid, plot_data_2['mean'], plot_data_2.uncertainty, dash_capstyle = 'butt')#x,y,error\n",
    "    plt.ylabel(\"Ratio of Fresh Reviews\")\n",
    "    plt.xlabel(\"Predicted P(Fresh) probability\")\n",
    "\n",
    "    #For straight line\n",
    "    plt.plot(plot_data_2.x_mid, plot_data_2.x_mid, ls='--', lw=1, c='k')\n",
    "    \n",
    "    #Plot 2 - bar chart\n",
    "    plt.bar(align='edge', x=plot_data_2.x_mid - 0.05/ 2, height=plot_data_2['count'],width=.90 * (bin_ends[1] - bin_ends[0]))\n",
    "    plt.xlabel(\"Predicted P(Fresh) probability\")\n",
    "    plt.ylabel(\"Number of reviews in category\")"
   ]
  },
  {
   "cell_type": "markdown",
   "id": "a027df6b",
   "metadata": {},
   "source": [
    "##### Calibration - Conclusion\n",
    "A model is over-confident if the freshness fraction is usually closer to 0.5 than expected (that is, there is more uncertainty than the model predicted). Likewise, a model is under-confident if the probabilities are usually further away from 0.5.\n",
    "\n",
    "This model is over-confident.\n",
    "\n",
    "Looking at plot 1, for a properly calibrated model, one would expect 10% of the P(Fresh) = 0.1 reviews to actually be fresh. However, the actual freshness ratio is almost 40%. \n",
    "For reviews where P(Fresh) ~0.9, the actual freshness fraction is closer to 0.7. In other words, there is more uncertainty in the outcome than implied by the model.\n",
    "\n",
    "In other words, the model is overconfident because it tends to the straight line y = 0.5."
   ]
  },
  {
   "cell_type": "markdown",
   "id": "7814d9a7",
   "metadata": {},
   "source": [
    "### Cross Validation\n",
    "\n",
    "Our Model is over-confident and over-plotted. Our model has two hyperparameters which can be optimised using crossvalidation.\n",
    "1. **alpha** - is a \"smoothing hyperparameter\" in Multinomial Naive Bayes. Increasing the value decreases the sensitivity to any single feature, and tends to pull prediction probabilities closer to 50%. Also for alpha greater than zero, it accounts for features not present in some reviews. If these features are not accounted for, the model will turn many probabilities to zero.\n",
    "2. **min_df** is a hyperparameter of CountVectorizer. It will ignore words that appear very few times."
   ]
  },
  {
   "cell_type": "markdown",
   "id": "9d6031ad",
   "metadata": {},
   "source": [
    "An algorithm is to be made that goes through a series of alpha and min_df values, and trains a model using these hyperparameters. \n",
    "The model is then tested, and its score is tested using a loglikelihood function.\n"
   ]
  },
  {
   "cell_type": "code",
   "execution_count": 21,
   "id": "4093ee66",
   "metadata": {},
   "outputs": [
    {
     "name": "stdout",
     "output_type": "stream",
     "text": [
      "[1 0 1 0 1 1 1 1] [0 1 0 1 0 0 0 0]\n"
     ]
    }
   ],
   "source": [
    "#Numpy Recap (Querying)\n",
    "import numpy as np\n",
    "list1 = np.array([1,0,1,0,1,1,1,1])\n",
    "list2 = list1==1\n",
    "list3 = list1==0\n",
    "print(list2.astype(int),list3.astype(int))"
   ]
  },
  {
   "cell_type": "code",
   "execution_count": 22,
   "id": "8a1c71d9",
   "metadata": {},
   "outputs": [],
   "source": [
    "#preliminary stuff for functions\n",
    "x,y=make_XY(dfs)"
   ]
  },
  {
   "cell_type": "code",
   "execution_count": 23,
   "id": "b8718477",
   "metadata": {},
   "outputs": [
    {
     "data": {
      "text/plain": [
       "-29946.29007044372"
      ]
     },
     "execution_count": 23,
     "metadata": {},
     "output_type": "execute_result"
    }
   ],
   "source": [
    "def max_loglikelihood(clf,x,y):\n",
    "    \"\"\"input is x and y data. output is log_likelihood\"\"\"\n",
    "    prob_table = clf.predict_log_proba(x) #generates log prob list\n",
    "    bad = y == 0\n",
    "    good = y == 1\n",
    "    log_likelihood = prob_table[bad, 0].sum() + prob_table[good, 1].sum() # log likelihood of data set. bigger is better.\n",
    "\n",
    "    log_likelihood\n",
    "\n",
    "    return log_likelihood\n",
    "max_loglikelihood(clf,x,y) \n",
    "# Likelihood can be in range 0 to 1. \n",
    "# Hence, Log likelihood values are then in range -Inf to 0."
   ]
  },
  {
   "cell_type": "code",
   "execution_count": 24,
   "id": "cf348d2d",
   "metadata": {},
   "outputs": [
    {
     "name": "stdout",
     "output_type": "stream",
     "text": [
      "-155028.72437158128\n"
     ]
    }
   ],
   "source": [
    "def get_score(clf, x, y, folds=5):\n",
    "    #1 Splits data into folds\n",
    "    #2 trains model based on candidate hyperparameters\n",
    "    #3 determines loglikelihood of model.(And returns it)\n",
    "    \n",
    "    result = 0\n",
    "    KF_object=KFold(n_splits=folds)\n",
    "    for train_index,test_index in KF_object.split(x):\n",
    "        x_train=x[train_index]\n",
    "        y_train=y[train_index]\n",
    "        clf.fit(x_train, y_train)\n",
    "        result = result + max_loglikelihood(clf,x,y)\n",
    "\n",
    "    return result\n",
    "get_score(clf, x,y)\n",
    "print(get_score(clf, x,y))"
   ]
  },
  {
   "cell_type": "markdown",
   "id": "2e75ec9e",
   "metadata": {},
   "source": [
    "Below are typical alpha and min_df values for the classifier. Obtained from [source](). This Gridsearch method is not efficient. There is a new [function](https://stackoverflow.com/questions/33830959/multinomial-naive-bayes-parameter-alpha-setting-scikit-learn) that can do this automatically. it's practically exhaustive."
   ]
  },
  {
   "cell_type": "code",
   "execution_count": 25,
   "id": "66ab0d15",
   "metadata": {},
   "outputs": [],
   "source": [
    "#the grid of hyperparameters to search over (Next time use GridSearchCV)\n",
    "#Plot the hyperparameters and the score.\n",
    "alphas = [0, .1, 1, 5, 10, 50]\n",
    "min_dfs = [1e-5, 1e-4, 1e-3, 1e-2, 1e-1]"
   ]
  },
  {
   "cell_type": "code",
   "execution_count": 26,
   "id": "f6a8e0cb",
   "metadata": {},
   "outputs": [
    {
     "name": "stderr",
     "output_type": "stream",
     "text": [
      "C:\\Users\\user\\anaconda3\\lib\\site-packages\\sklearn\\naive_bayes.py:555: UserWarning: alpha too small will result in numeric errors, setting alpha = 1.0e-10\n",
      "  warnings.warn(\n",
      "C:\\Users\\user\\anaconda3\\lib\\site-packages\\sklearn\\naive_bayes.py:555: UserWarning: alpha too small will result in numeric errors, setting alpha = 1.0e-10\n",
      "  warnings.warn(\n",
      "C:\\Users\\user\\anaconda3\\lib\\site-packages\\sklearn\\naive_bayes.py:555: UserWarning: alpha too small will result in numeric errors, setting alpha = 1.0e-10\n",
      "  warnings.warn(\n",
      "C:\\Users\\user\\anaconda3\\lib\\site-packages\\sklearn\\naive_bayes.py:555: UserWarning: alpha too small will result in numeric errors, setting alpha = 1.0e-10\n",
      "  warnings.warn(\n",
      "C:\\Users\\user\\anaconda3\\lib\\site-packages\\sklearn\\naive_bayes.py:555: UserWarning: alpha too small will result in numeric errors, setting alpha = 1.0e-10\n",
      "  warnings.warn(\n",
      "C:\\Users\\user\\anaconda3\\lib\\site-packages\\sklearn\\naive_bayes.py:555: UserWarning: alpha too small will result in numeric errors, setting alpha = 1.0e-10\n",
      "  warnings.warn(\n",
      "C:\\Users\\user\\anaconda3\\lib\\site-packages\\sklearn\\naive_bayes.py:555: UserWarning: alpha too small will result in numeric errors, setting alpha = 1.0e-10\n",
      "  warnings.warn(\n",
      "C:\\Users\\user\\anaconda3\\lib\\site-packages\\sklearn\\naive_bayes.py:555: UserWarning: alpha too small will result in numeric errors, setting alpha = 1.0e-10\n",
      "  warnings.warn(\n",
      "C:\\Users\\user\\anaconda3\\lib\\site-packages\\sklearn\\naive_bayes.py:555: UserWarning: alpha too small will result in numeric errors, setting alpha = 1.0e-10\n",
      "  warnings.warn(\n",
      "C:\\Users\\user\\anaconda3\\lib\\site-packages\\sklearn\\naive_bayes.py:555: UserWarning: alpha too small will result in numeric errors, setting alpha = 1.0e-10\n",
      "  warnings.warn(\n",
      "C:\\Users\\user\\anaconda3\\lib\\site-packages\\sklearn\\naive_bayes.py:555: UserWarning: alpha too small will result in numeric errors, setting alpha = 1.0e-10\n",
      "  warnings.warn(\n",
      "C:\\Users\\user\\anaconda3\\lib\\site-packages\\sklearn\\naive_bayes.py:555: UserWarning: alpha too small will result in numeric errors, setting alpha = 1.0e-10\n",
      "  warnings.warn(\n",
      "C:\\Users\\user\\anaconda3\\lib\\site-packages\\sklearn\\naive_bayes.py:555: UserWarning: alpha too small will result in numeric errors, setting alpha = 1.0e-10\n",
      "  warnings.warn(\n",
      "C:\\Users\\user\\anaconda3\\lib\\site-packages\\sklearn\\naive_bayes.py:555: UserWarning: alpha too small will result in numeric errors, setting alpha = 1.0e-10\n",
      "  warnings.warn(\n",
      "C:\\Users\\user\\anaconda3\\lib\\site-packages\\sklearn\\naive_bayes.py:555: UserWarning: alpha too small will result in numeric errors, setting alpha = 1.0e-10\n",
      "  warnings.warn(\n",
      "C:\\Users\\user\\anaconda3\\lib\\site-packages\\sklearn\\naive_bayes.py:555: UserWarning: alpha too small will result in numeric errors, setting alpha = 1.0e-10\n",
      "  warnings.warn(\n",
      "C:\\Users\\user\\anaconda3\\lib\\site-packages\\sklearn\\naive_bayes.py:555: UserWarning: alpha too small will result in numeric errors, setting alpha = 1.0e-10\n",
      "  warnings.warn(\n",
      "C:\\Users\\user\\anaconda3\\lib\\site-packages\\sklearn\\naive_bayes.py:555: UserWarning: alpha too small will result in numeric errors, setting alpha = 1.0e-10\n",
      "  warnings.warn(\n",
      "C:\\Users\\user\\anaconda3\\lib\\site-packages\\sklearn\\naive_bayes.py:555: UserWarning: alpha too small will result in numeric errors, setting alpha = 1.0e-10\n",
      "  warnings.warn(\n",
      "C:\\Users\\user\\anaconda3\\lib\\site-packages\\sklearn\\naive_bayes.py:555: UserWarning: alpha too small will result in numeric errors, setting alpha = 1.0e-10\n",
      "  warnings.warn(\n",
      "C:\\Users\\user\\anaconda3\\lib\\site-packages\\sklearn\\naive_bayes.py:555: UserWarning: alpha too small will result in numeric errors, setting alpha = 1.0e-10\n",
      "  warnings.warn(\n",
      "C:\\Users\\user\\anaconda3\\lib\\site-packages\\sklearn\\naive_bayes.py:555: UserWarning: alpha too small will result in numeric errors, setting alpha = 1.0e-10\n",
      "  warnings.warn(\n",
      "C:\\Users\\user\\anaconda3\\lib\\site-packages\\sklearn\\naive_bayes.py:555: UserWarning: alpha too small will result in numeric errors, setting alpha = 1.0e-10\n",
      "  warnings.warn(\n",
      "C:\\Users\\user\\anaconda3\\lib\\site-packages\\sklearn\\naive_bayes.py:555: UserWarning: alpha too small will result in numeric errors, setting alpha = 1.0e-10\n",
      "  warnings.warn(\n",
      "C:\\Users\\user\\anaconda3\\lib\\site-packages\\sklearn\\naive_bayes.py:555: UserWarning: alpha too small will result in numeric errors, setting alpha = 1.0e-10\n",
      "  warnings.warn(\n"
     ]
    }
   ],
   "source": [
    "#Find the best value for alpha and min_df, and the best classifier\n",
    "best_alpha = None\n",
    "best_min_df = None\n",
    "max_loglike = -np.inf\n",
    "\n",
    "for alpha in alphas: \n",
    "    for min_df in min_dfs: #choose 1 alpha and 1 min_df\n",
    "        \n",
    "        #Convert data to a vector form using vectoriser\n",
    "        vectorizer = CountVectorizer(min_df = min_df) \n",
    "        \n",
    "        #Obtain your dataset x y\n",
    "        X, Y = make_XY(dfs, vectorizer) #We took a long time to figure this out see changes in fucntion above\n",
    "        \n",
    "        #Function get_score does many things:\n",
    "         ##1 Splits data into folds\n",
    "         ##2 trains model based on candidate hyperparameters\n",
    "         ##3 determines loglikelihood of model.(And returns it)\n",
    "        \n",
    "        #This is done outside, because the get_score function is generalised. This is supposed to be ##step 2\n",
    "        clf = MultinomialNB(alpha=alpha) \n",
    "        loglike = get_score(clf, X, Y)\n",
    "\n",
    "        if loglike > max_loglike:\n",
    "            max_loglike = loglike\n",
    "            best_alpha, best_min_df = alpha, min_df"
   ]
  },
  {
   "cell_type": "code",
   "execution_count": 27,
   "id": "e48fca79",
   "metadata": {},
   "outputs": [
    {
     "name": "stdout",
     "output_type": "stream",
     "text": [
      "best alpha is: 0\n",
      "best min_df is: 0.1\n"
     ]
    }
   ],
   "source": [
    "print(f'best alpha is: {best_alpha}')\n",
    "print(f'best min_df is: {best_min_df}')"
   ]
  },
  {
   "cell_type": "markdown",
   "id": "bfa6d80c",
   "metadata": {},
   "source": [
    "## Final Model\n",
    "The best hyperparameters are used to train the model\n",
    "\n",
    "Note: \n",
    "1. the best hyperparameters happen to be at the ends of the grid. This means that better values might be jsut outside the grid. The grid must be expanded to verify this.\n",
    "2. There are better ways/methods to look for optimal hyperparameters.\n"
   ]
  },
  {
   "cell_type": "code",
   "execution_count": 28,
   "id": "059cdc2d",
   "metadata": {},
   "outputs": [
    {
     "name": "stderr",
     "output_type": "stream",
     "text": [
      "C:\\Users\\user\\anaconda3\\lib\\site-packages\\sklearn\\naive_bayes.py:555: UserWarning: alpha too small will result in numeric errors, setting alpha = 1.0e-10\n",
      "  warnings.warn(\n",
      "C:\\Users\\user\\anaconda3\\lib\\site-packages\\sklearn\\naive_bayes.py:555: UserWarning: alpha too small will result in numeric errors, setting alpha = 1.0e-10\n",
      "  warnings.warn(\n",
      "C:\\Users\\user\\anaconda3\\lib\\site-packages\\sklearn\\naive_bayes.py:555: UserWarning: alpha too small will result in numeric errors, setting alpha = 1.0e-10\n",
      "  warnings.warn(\n",
      "C:\\Users\\user\\anaconda3\\lib\\site-packages\\sklearn\\naive_bayes.py:555: UserWarning: alpha too small will result in numeric errors, setting alpha = 1.0e-10\n",
      "  warnings.warn(\n",
      "C:\\Users\\user\\anaconda3\\lib\\site-packages\\sklearn\\naive_bayes.py:555: UserWarning: alpha too small will result in numeric errors, setting alpha = 1.0e-10\n",
      "  warnings.warn(\n"
     ]
    }
   ],
   "source": [
    "# Cross-validation\n",
    "\n",
    "n_fold = 5\n",
    "KF_object = KFold(n_splits=n_fold)\n",
    "\n",
    "vectorizer = CountVectorizer(min_df = 0.1) \n",
    "X,Y = make_XY(dfs, vectorizer)\n",
    "\n",
    "difference_list = [] # list of the differences between the train and test score.\n",
    "\n",
    "for train_index, test_index in KF_object.split(X):\n",
    "    # Step 1 : select train test splits from vectorized X data and Y boolean data.  \n",
    "    x_train =X[train_index]\n",
    "    x_test = X[test_index]\n",
    "    y_train =Y[train_index]\n",
    "    y_test= Y[test_index]\n",
    "\n",
    "    # Step 2 : train model and score against training and testing data.\n",
    "    \n",
    "    clf = MultinomialNB(alpha=0).fit(x_train , y_train)\n",
    "\n",
    "    training_accuracy = clf.score(x_train , y_train)\n",
    "    testing_accuracy = clf.score(x_test , y_test)\n",
    "    \n",
    "    error_ratio=(1-testing_accuracy)/(1-training_accuracy)\n",
    "    #testing error is bigger if overfit. testing error/training error = error ratio\n",
    "    \n",
    "    difference_list.append(error_ratio)"
   ]
  },
  {
   "cell_type": "code",
   "execution_count": 30,
   "id": "99caee4c",
   "metadata": {},
   "outputs": [
    {
     "data": {
      "image/png": "[encoded data removed]",
      "text/plain": [
       "<Figure size 432x288 with 1 Axes>"
      ]
     },
     "metadata": {
      "needs_background": "light"
     },
     "output_type": "display_data"
    }
   ],
   "source": [
    "plt.xlabel(\"Prediction Error/Training Error\")\n",
    "plt.ylabel(\"Number of Folds\")\n",
    "\n",
    "plt.hist(difference_list,edgecolor='white')\n",
    "plt.show()"
   ]
  },
  {
   "cell_type": "code",
   "execution_count": null,
   "id": "f00aeaa7",
   "metadata": {},
   "outputs": [],
   "source": []
  }
 ],
 "metadata": {
  "kernelspec": {
   "display_name": "Python 3 (ipykernel)",
   "language": "python",
   "name": "python3"
  },
  "language_info": {
   "codemirror_mode": {
    "name": "ipython",
    "version": 3
   },
   "file_extension": ".py",
   "mimetype": "text/x-python",
   "name": "python",
   "nbconvert_exporter": "python",
   "pygments_lexer": "ipython3",
   "version": "3.8.12"
  }
 },
 "nbformat": 4,
 "nbformat_minor": 5
}
