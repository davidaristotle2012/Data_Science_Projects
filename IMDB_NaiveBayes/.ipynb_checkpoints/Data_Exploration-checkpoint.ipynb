{
 "cells": [
  {
   "cell_type": "markdown",
   "id": "497000b4",
   "metadata": {},
   "source": [
    "# Data Exploration\n",
    "In this section, the data from 'Data_Acquisition' over the past few days is merged together. THen Various are created to get a few insights."
   ]
  },
  {
   "cell_type": "code",
   "execution_count": 1,
   "id": "14180b67",
   "metadata": {},
   "outputs": [],
   "source": [
    "# Concatenate  csv file.\n",
    "import pandas as pd\n",
    "\n",
    "review_day_1,review_day_2 = 'reviews_day_1.csv','reviews_day_2.csv'\n",
    "df1,df2 = pd.read_csv(review_day_1, delimiter='\\t'), pd.read_csv(review_day_2, delimiter='\\t')\n",
    "dfs = pd.concat([df1,df2], ignore_index=True)\n"
   ]
  },
  {
   "cell_type": "markdown",
   "id": "1199400d",
   "metadata": {},
   "source": [
    "#### Some Cleaning\n",
    "Remove -1 and NaN"
   ]
  },
  {
   "cell_type": "code",
   "execution_count": 15,
   "id": "038c4d8f",
   "metadata": {},
   "outputs": [
    {
     "name": "stdout",
     "output_type": "stream",
     "text": [
      "2984\n",
      "18662\n",
      "0\n",
      "ratio of bad data: 0.159\n"
     ]
    },
    {
     "data": {
      "text/html": [
       "<div>\n",
       "<style scoped>\n",
       "    .dataframe tbody tr th:only-of-type {\n",
       "        vertical-align: middle;\n",
       "    }\n",
       "\n",
       "    .dataframe tbody tr th {\n",
       "        vertical-align: top;\n",
       "    }\n",
       "\n",
       "    .dataframe thead th {\n",
       "        text-align: right;\n",
       "    }\n",
       "</style>\n",
       "<table border=\"1\" class=\"dataframe\">\n",
       "  <thead>\n",
       "    <tr style=\"text-align: right;\">\n",
       "      <th></th>\n",
       "      <th>content</th>\n",
       "      <th>title</th>\n",
       "      <th>author</th>\n",
       "      <th>date</th>\n",
       "      <th>rating</th>\n",
       "      <th>imdb_ID</th>\n",
       "    </tr>\n",
       "  </thead>\n",
       "  <tbody>\n",
       "    <tr>\n",
       "      <th>0</th>\n",
       "      <td>Toy Story is just a wonderful film, that I rec...</td>\n",
       "      <td>Toy story</td>\n",
       "      <td>ur20552756</td>\n",
       "      <td>16 June 2009</td>\n",
       "      <td>10.0</td>\n",
       "      <td>114709</td>\n",
       "    </tr>\n",
       "    <tr>\n",
       "      <th>1</th>\n",
       "      <td>Toy Story (1995) *** 1/2 (out of 4) A kid's to...</td>\n",
       "      <td>Toy story</td>\n",
       "      <td>ur13134536</td>\n",
       "      <td>22 December 2010</td>\n",
       "      <td>-1.0</td>\n",
       "      <td>114709</td>\n",
       "    </tr>\n",
       "    <tr>\n",
       "      <th>2</th>\n",
       "      <td>I can see why this was a big hit at the time. ...</td>\n",
       "      <td>Toy story</td>\n",
       "      <td>ur0482513</td>\n",
       "      <td>18 September 2021</td>\n",
       "      <td>6.0</td>\n",
       "      <td>114709</td>\n",
       "    </tr>\n",
       "    <tr>\n",
       "      <th>3</th>\n",
       "      <td>Andy's toys come to life. Woody (Tom Hanks) is...</td>\n",
       "      <td>Toy story</td>\n",
       "      <td>ur2898520</td>\n",
       "      <td>25 November 2013</td>\n",
       "      <td>10.0</td>\n",
       "      <td>114709</td>\n",
       "    </tr>\n",
       "    <tr>\n",
       "      <th>4</th>\n",
       "      <td>What a wonderful integration of classic toys a...</td>\n",
       "      <td>Toy story</td>\n",
       "      <td>ur0278527</td>\n",
       "      <td>3 January 2015</td>\n",
       "      <td>10.0</td>\n",
       "      <td>114709</td>\n",
       "    </tr>\n",
       "    <tr>\n",
       "      <th>5</th>\n",
       "      <td>Andy's toys live a reasonable life of fun and ...</td>\n",
       "      <td>Toy story</td>\n",
       "      <td>ur1002035</td>\n",
       "      <td>22 April 2003</td>\n",
       "      <td>-1.0</td>\n",
       "      <td>114709</td>\n",
       "    </tr>\n",
       "    <tr>\n",
       "      <th>6</th>\n",
       "      <td>The original meaning of a playmate that is of ...</td>\n",
       "      <td>Toy story</td>\n",
       "      <td>ur5876717</td>\n",
       "      <td>21 October 2010</td>\n",
       "      <td>9.0</td>\n",
       "      <td>114709</td>\n",
       "    </tr>\n",
       "    <tr>\n",
       "      <th>7</th>\n",
       "      <td>With films like \"Toy Story\", I feel like I'm g...</td>\n",
       "      <td>Toy story</td>\n",
       "      <td>ur2707735</td>\n",
       "      <td>17 August 2011</td>\n",
       "      <td>8.0</td>\n",
       "      <td>114709</td>\n",
       "    </tr>\n",
       "    <tr>\n",
       "      <th>8</th>\n",
       "      <td>Pixar became a household name in 1995 with \"To...</td>\n",
       "      <td>Toy story</td>\n",
       "      <td>ur4888011</td>\n",
       "      <td>13 March 2006</td>\n",
       "      <td>8.0</td>\n",
       "      <td>114709</td>\n",
       "    </tr>\n",
       "    <tr>\n",
       "      <th>9</th>\n",
       "      <td>This was the very first computer animated film...</td>\n",
       "      <td>Toy story</td>\n",
       "      <td>ur4248714</td>\n",
       "      <td>1 July 2005</td>\n",
       "      <td>10.0</td>\n",
       "      <td>114709</td>\n",
       "    </tr>\n",
       "  </tbody>\n",
       "</table>\n",
       "</div>"
      ],
      "text/plain": [
       "                                             content      title      author  \\\n",
       "0  Toy Story is just a wonderful film, that I rec...  Toy story  ur20552756   \n",
       "1  Toy Story (1995) *** 1/2 (out of 4) A kid's to...  Toy story  ur13134536   \n",
       "2  I can see why this was a big hit at the time. ...  Toy story   ur0482513   \n",
       "3  Andy's toys come to life. Woody (Tom Hanks) is...  Toy story   ur2898520   \n",
       "4  What a wonderful integration of classic toys a...  Toy story   ur0278527   \n",
       "5  Andy's toys live a reasonable life of fun and ...  Toy story   ur1002035   \n",
       "6  The original meaning of a playmate that is of ...  Toy story   ur5876717   \n",
       "7  With films like \"Toy Story\", I feel like I'm g...  Toy story   ur2707735   \n",
       "8  Pixar became a household name in 1995 with \"To...  Toy story   ur4888011   \n",
       "9  This was the very first computer animated film...  Toy story   ur4248714   \n",
       "\n",
       "                date  rating  imdb_ID  \n",
       "0       16 June 2009    10.0   114709  \n",
       "1   22 December 2010    -1.0   114709  \n",
       "2  18 September 2021     6.0   114709  \n",
       "3   25 November 2013    10.0   114709  \n",
       "4     3 January 2015    10.0   114709  \n",
       "5      22 April 2003    -1.0   114709  \n",
       "6    21 October 2010     9.0   114709  \n",
       "7     17 August 2011     8.0   114709  \n",
       "8      13 March 2006     8.0   114709  \n",
       "9        1 July 2005    10.0   114709  "
      ]
     },
     "execution_count": 15,
     "metadata": {},
     "output_type": "execute_result"
    }
   ],
   "source": [
    "# Before cleaning lets see how bad it is\n",
    "print(len(dfs[dfs.rating == -1]))\n",
    "print(len(dfs))\n",
    "print(len(dfs[dfs.rating == 'NaN']))\n",
    "print('ratio of bad data:', str(2984/18662)[0:5])\n",
    "dfs.head(10)"
   ]
  },
  {
   "cell_type": "code",
   "execution_count": 21,
   "id": "8d1a1ce0",
   "metadata": {},
   "outputs": [
    {
     "data": {
      "text/html": [
       "<div>\n",
       "<style scoped>\n",
       "    .dataframe tbody tr th:only-of-type {\n",
       "        vertical-align: middle;\n",
       "    }\n",
       "\n",
       "    .dataframe tbody tr th {\n",
       "        vertical-align: top;\n",
       "    }\n",
       "\n",
       "    .dataframe thead th {\n",
       "        text-align: right;\n",
       "    }\n",
       "</style>\n",
       "<table border=\"1\" class=\"dataframe\">\n",
       "  <thead>\n",
       "    <tr style=\"text-align: right;\">\n",
       "      <th></th>\n",
       "      <th>content</th>\n",
       "      <th>title</th>\n",
       "      <th>author</th>\n",
       "      <th>date</th>\n",
       "      <th>rating</th>\n",
       "      <th>imdb_ID</th>\n",
       "    </tr>\n",
       "  </thead>\n",
       "  <tbody>\n",
       "    <tr>\n",
       "      <th>0</th>\n",
       "      <td>Toy Story is just a wonderful film, that I rec...</td>\n",
       "      <td>Toy story</td>\n",
       "      <td>ur20552756</td>\n",
       "      <td>16 June 2009</td>\n",
       "      <td>10.0</td>\n",
       "      <td>114709</td>\n",
       "    </tr>\n",
       "    <tr>\n",
       "      <th>2</th>\n",
       "      <td>I can see why this was a big hit at the time. ...</td>\n",
       "      <td>Toy story</td>\n",
       "      <td>ur0482513</td>\n",
       "      <td>18 September 2021</td>\n",
       "      <td>6.0</td>\n",
       "      <td>114709</td>\n",
       "    </tr>\n",
       "    <tr>\n",
       "      <th>3</th>\n",
       "      <td>Andy's toys come to life. Woody (Tom Hanks) is...</td>\n",
       "      <td>Toy story</td>\n",
       "      <td>ur2898520</td>\n",
       "      <td>25 November 2013</td>\n",
       "      <td>10.0</td>\n",
       "      <td>114709</td>\n",
       "    </tr>\n",
       "    <tr>\n",
       "      <th>4</th>\n",
       "      <td>What a wonderful integration of classic toys a...</td>\n",
       "      <td>Toy story</td>\n",
       "      <td>ur0278527</td>\n",
       "      <td>3 January 2015</td>\n",
       "      <td>10.0</td>\n",
       "      <td>114709</td>\n",
       "    </tr>\n",
       "    <tr>\n",
       "      <th>6</th>\n",
       "      <td>The original meaning of a playmate that is of ...</td>\n",
       "      <td>Toy story</td>\n",
       "      <td>ur5876717</td>\n",
       "      <td>21 October 2010</td>\n",
       "      <td>9.0</td>\n",
       "      <td>114709</td>\n",
       "    </tr>\n",
       "    <tr>\n",
       "      <th>7</th>\n",
       "      <td>With films like \"Toy Story\", I feel like I'm g...</td>\n",
       "      <td>Toy story</td>\n",
       "      <td>ur2707735</td>\n",
       "      <td>17 August 2011</td>\n",
       "      <td>8.0</td>\n",
       "      <td>114709</td>\n",
       "    </tr>\n",
       "    <tr>\n",
       "      <th>8</th>\n",
       "      <td>Pixar became a household name in 1995 with \"To...</td>\n",
       "      <td>Toy story</td>\n",
       "      <td>ur4888011</td>\n",
       "      <td>13 March 2006</td>\n",
       "      <td>8.0</td>\n",
       "      <td>114709</td>\n",
       "    </tr>\n",
       "    <tr>\n",
       "      <th>9</th>\n",
       "      <td>This was the very first computer animated film...</td>\n",
       "      <td>Toy story</td>\n",
       "      <td>ur4248714</td>\n",
       "      <td>1 July 2005</td>\n",
       "      <td>10.0</td>\n",
       "      <td>114709</td>\n",
       "    </tr>\n",
       "    <tr>\n",
       "      <th>10</th>\n",
       "      <td>This is a very clever animated story that was ...</td>\n",
       "      <td>Toy story</td>\n",
       "      <td>ur4445210</td>\n",
       "      <td>18 February 2007</td>\n",
       "      <td>10.0</td>\n",
       "      <td>114709</td>\n",
       "    </tr>\n",
       "    <tr>\n",
       "      <th>11</th>\n",
       "      <td>While I don't think 3D computer animation has ...</td>\n",
       "      <td>Toy story</td>\n",
       "      <td>ur13977076</td>\n",
       "      <td>3 June 2009</td>\n",
       "      <td>9.0</td>\n",
       "      <td>114709</td>\n",
       "    </tr>\n",
       "  </tbody>\n",
       "</table>\n",
       "</div>"
      ],
      "text/plain": [
       "                                              content      title      author  \\\n",
       "0   Toy Story is just a wonderful film, that I rec...  Toy story  ur20552756   \n",
       "2   I can see why this was a big hit at the time. ...  Toy story   ur0482513   \n",
       "3   Andy's toys come to life. Woody (Tom Hanks) is...  Toy story   ur2898520   \n",
       "4   What a wonderful integration of classic toys a...  Toy story   ur0278527   \n",
       "6   The original meaning of a playmate that is of ...  Toy story   ur5876717   \n",
       "7   With films like \"Toy Story\", I feel like I'm g...  Toy story   ur2707735   \n",
       "8   Pixar became a household name in 1995 with \"To...  Toy story   ur4888011   \n",
       "9   This was the very first computer animated film...  Toy story   ur4248714   \n",
       "10  This is a very clever animated story that was ...  Toy story   ur4445210   \n",
       "11  While I don't think 3D computer animation has ...  Toy story  ur13977076   \n",
       "\n",
       "                 date  rating  imdb_ID  \n",
       "0        16 June 2009    10.0   114709  \n",
       "2   18 September 2021     6.0   114709  \n",
       "3    25 November 2013    10.0   114709  \n",
       "4      3 January 2015    10.0   114709  \n",
       "6     21 October 2010     9.0   114709  \n",
       "7      17 August 2011     8.0   114709  \n",
       "8       13 March 2006     8.0   114709  \n",
       "9         1 July 2005    10.0   114709  \n",
       "10   18 February 2007    10.0   114709  \n",
       "11        3 June 2009     9.0   114709  "
      ]
     },
     "execution_count": 21,
     "metadata": {},
     "output_type": "execute_result"
    }
   ],
   "source": [
    "# Remove\n",
    "dfs = dfs.drop(dfs[dfs.rating == -1].index)\n",
    "dfs.head(10)"
   ]
  },
  {
   "cell_type": "markdown",
   "id": "b069007e",
   "metadata": {},
   "source": [
    "#### This is a summary of the Data that we have."
   ]
  },
  {
   "cell_type": "code",
   "execution_count": 22,
   "id": "7278a43a",
   "metadata": {},
   "outputs": [
    {
     "name": "stdout",
     "output_type": "stream",
     "text": [
      "Number of reviews: 15678\n",
      "Number of critics: 3018\n",
      "Number of movies:  994\n"
     ]
    }
   ],
   "source": [
    "n_reviews = len(dfs)\n",
    "n_critics = dfs.author.unique().size\n",
    "n_movies = dfs.title.unique().size\n",
    "\n",
    "print (f'Number of reviews: {n_reviews}')\n",
    "print (f'Number of critics: {n_critics}')\n",
    "print (f'Number of movies:  {n_movies}')"
   ]
  },
  {
   "cell_type": "markdown",
   "id": "7b66d4a6",
   "metadata": {},
   "source": [
    "#### How many reviews has a critic made on average?\n",
    "See [Documentation](https://pandas.pydata.org/docs/reference/api/pandas.core.groupby.DataFrameGroupBy.hist.html?highlight=hist#pandas.core.groupby.DataFrameGroupBy.hist)"
   ]
  },
  {
   "cell_type": "code",
   "execution_count": 24,
   "id": "bd7fd0a6",
   "metadata": {},
   "outputs": [
    {
     "data": {
      "image/png": "[encoded data removed]",
      "text/plain": [
       "<Figure size 432x288 with 1 Axes>"
      ]
     },
     "metadata": {
      "needs_background": "light"
     },
     "output_type": "display_data"
    }
   ],
   "source": [
    "# I decided to visualise the distribution using a histogram. \n",
    "# Note pandas contains matplotlib functions already. \n",
    "import matplotlib as plt\n",
    "\n",
    "def histo_details():\n",
    "    remove_border(left=False)\n",
    "    plt.xlabel(\"Number of reviews per author\")\n",
    "    plt.ylabel(\"Number of authors\")\n",
    "    \n",
    "#pandas function that uses matplotlib\n",
    "dfs.groupby('author').title.count().hist(log=True, bins=range(25), edgecolor='white') \n",
    "\n",
    "plt.pyplot.grid(False)\n",
    "plt.pyplot.grid(axis='y', linestyle='-', c='w', linewidth=1.5)  # c is color (American) linewidth = lw , linestyle = ls."
   ]
  },
  {
   "cell_type": "markdown",
   "id": "50d02df7",
   "metadata": {},
   "source": [
    "#### Which authors have the most reviews?\n",
    "The authors were ranked. "
   ]
  },
  {
   "cell_type": "code",
   "execution_count": null,
   "id": "e26d704f",
   "metadata": {},
   "outputs": [],
   "source": [
    "author_grouped = dfs.groupby('author')\n",
    "counts_per_author = author_grouped.title.count()\n",
    "counts_per_author.sort_values(ascending=False).head(10)"
   ]
  },
  {
   "cell_type": "markdown",
   "id": "f1e65bad",
   "metadata": {},
   "source": [
    "#### Of the authors that have a review count of 100 or more, what is their average rating per movie?"
   ]
  },
  {
   "cell_type": "code",
   "execution_count": null,
   "id": "27d4e99a",
   "metadata": {},
   "outputs": [],
   "source": [
    "df = dfs.copy()\n",
    "group = df.groupby('author')\n",
    "counts = group.title.count() # number of movies reviewed per author.\n",
    "averages = group.rating.mean() # mean ratings per author\n",
    "\n",
    "averages[counts>100].hist(bins=10, edgecolor='w', lw=1)\n",
    "plt.xlabel(\"Average rating per critic\")\n",
    "plt.ylabel(\"N\")\n",
    "plt.yticks([0, 2, 4, 6, 8, 10])\n",
    "histo_details()"
   ]
  },
  {
   "cell_type": "markdown",
   "id": "b1a979c1",
   "metadata": {},
   "source": [
    "#### For author number'' , Determine whether they like older or newer movies."
   ]
  },
  {
   "cell_type": "code",
   "execution_count": null,
   "id": "ac2f7804",
   "metadata": {},
   "outputs": [],
   "source": []
  },
  {
   "cell_type": "markdown",
   "id": "2ea0ddf0",
   "metadata": {},
   "source": [
    "#### A yearly average of ratings given by top critics was plotted."
   ]
  },
  {
   "cell_type": "code",
   "execution_count": null,
   "id": "e63f0be9",
   "metadata": {},
   "outputs": [],
   "source": [
    "data = dfs[['date','rating']]\n",
    "data.date = [str(el)[-4:] for el in df.date]\n",
    "data.apply(pd.to_numeric(data.date, errors='coerce', downcast=‘integer’))\n",
    "means = data.groupby('date').mean().dropna() # Note when using groupby mean, your new columns are means.\n",
    "\n",
    "plt.plot(data.date, data.rating, 'o', mec='none', alpha=.2, label='Data')\n",
    "plt.plot(means.date, means.rating, '--', label='Yearly Average')\n",
    "plt.legend(loc='lower left', frameon=True)\n",
    "plt.xlabel(\"Year\")\n",
    "plt.ylabel(\"Average Score\")\n",
    "remove_border()"
   ]
  }
 ],
 "metadata": {
  "kernelspec": {
   "display_name": "Python 3 (ipykernel)",
   "language": "python",
   "name": "python3"
  },
  "language_info": {
   "codemirror_mode": {
    "name": "ipython",
    "version": 3
   },
   "file_extension": ".py",
   "mimetype": "text/x-python",
   "name": "python",
   "nbconvert_exporter": "python",
   "pygments_lexer": "ipython3",
   "version": "3.8.12"
  }
 },
 "nbformat": 4,
 "nbformat_minor": 5
}
