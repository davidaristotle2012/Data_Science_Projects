{
 "cells": [
  {
   "cell_type": "markdown",
   "id": "497000b4",
   "metadata": {},
   "source": [
    "# Data Exploration\n",
    "In this section, the data from 'Data_Acquisition' over the past few days is merged together. THen Various are created to get a few insights."
   ]
  },
  {
   "cell_type": "code",
   "execution_count": null,
   "id": "14180b67",
   "metadata": {},
   "outputs": [],
   "source": [
    "# Concatenate  csv file.\n",
    "import pandas as pd\n",
    "\n",
    "review_day_1,review_day_2 = 'reviews_day_1.csv','reviews_day_2.csv'\n",
    "df1,df2 = pd.read_csv(review_day_1, delimiter='\\t'), pd.read_csv(review_day_2, delimiter='\\t')\n",
    "dfs = pd.concat([df1,df2], ignore_index=True)\n"
   ]
  },
  {
   "cell_type": "markdown",
   "id": "1199400d",
   "metadata": {},
   "source": [
    "#### Some Cleaning\n",
    "Remove -1 and NaN"
   ]
  },
  {
   "cell_type": "code",
   "execution_count": null,
   "id": "038c4d8f",
   "metadata": {},
   "outputs": [],
   "source": [
    "# Before cleaning lets see how bad it is\n",
    "print(len(dfs[dfs.rating == -1]))\n",
    "print(len(dfs[dfs.rating == 'NaN']))"
   ]
  },
  {
   "cell_type": "code",
   "execution_count": null,
   "id": "8d1a1ce0",
   "metadata": {},
   "outputs": [],
   "source": [
    "# Remove\n",
    "dfs.drop(dfs[dfs.rating == -1].index)\n",
    "dfs.drop(dfs[dfs.rating == 'NaN'].index)"
   ]
  },
  {
   "cell_type": "markdown",
   "id": "b069007e",
   "metadata": {},
   "source": [
    "#### This is a summary of the Data that we have."
   ]
  },
  {
   "cell_type": "code",
   "execution_count": 1,
   "id": "7278a43a",
   "metadata": {},
   "outputs": [
    {
     "ename": "SyntaxError",
     "evalue": "Missing parentheses in call to 'print'. Did you mean print(\"Number of reviews: %i\" % n_reviews)? (Temp/ipykernel_10820/3461322201.py, line 5)",
     "output_type": "error",
     "traceback": [
      "\u001b[1;36m  File \u001b[1;32m\"C:\\Users\\user\\AppData\\Local\\Temp/ipykernel_10820/3461322201.py\"\u001b[1;36m, line \u001b[1;32m5\u001b[0m\n\u001b[1;33m    print \"Number of reviews: %i\" % n_reviews\u001b[0m\n\u001b[1;37m          ^\u001b[0m\n\u001b[1;31mSyntaxError\u001b[0m\u001b[1;31m:\u001b[0m Missing parentheses in call to 'print'. Did you mean print(\"Number of reviews: %i\" % n_reviews)?\n"
     ]
    }
   ],
   "source": [
    "n_reviews = len(dfs)\n",
    "n_critics = dfs.author.unique().size\n",
    "n_movies = dfs.title.unique().size\n",
    "\n",
    "print (f'Number of reviews: {n_reviews}')\n",
    "print (f'Number of critics: {n_critics}')\n",
    "print (f'Number of movies:  {n_movies}')"
   ]
  },
  {
   "cell_type": "markdown",
   "id": "7b66d4a6",
   "metadata": {},
   "source": [
    "#### How many reviews has a critic made on average?\n",
    "See [Documentation](https://pandas.pydata.org/docs/reference/api/pandas.core.groupby.DataFrameGroupBy.hist.html?highlight=hist#pandas.core.groupby.DataFrameGroupBy.hist)"
   ]
  },
  {
   "cell_type": "code",
   "execution_count": null,
   "id": "bd7fd0a6",
   "metadata": {},
   "outputs": [],
   "source": [
    "\\# I decided to visualise the distribution using a histogram. \n",
    "# Note pandas contains matplotlib functions already. \n",
    "import matplotlib as plt\n",
    "\n",
    "def histo_details():\n",
    "    remove_border(left=False)\n",
    "    plt.xlabel(\"Number of reviews per author\")\n",
    "    plt.ylabel(\"Number of authors\")\n",
    "    \n",
    "#pandas function that uses matplotlib\n",
    "dfs.groupby('author').title.count().hist(log=False, bins=range(25), edgecolor='white') \n",
    "\n",
    "plt.grid(False)\n",
    "plt.grid(axis='y', linestyle='-', c='w', linewidth=1.5)  # c is color (American) linewidth = lw , linestyle = ls."
   ]
  },
  {
   "cell_type": "markdown",
   "id": "50d02df7",
   "metadata": {},
   "source": [
    "#### Which authors have the most reviews?\n",
    "The authors were ranked. "
   ]
  },
  {
   "cell_type": "code",
   "execution_count": null,
   "id": "e26d704f",
   "metadata": {},
   "outputs": [],
   "source": [
    "author_grouped = dfs.groupby('author')\n",
    "counts_per_author = author_grouped.title.count()\n",
    "counts_per_author.sort_values(ascending=False).head(10)"
   ]
  },
  {
   "cell_type": "markdown",
   "id": "f1e65bad",
   "metadata": {},
   "source": [
    "#### Of the authors that have a review count of 100 or more, what is their average rating per movie?"
   ]
  },
  {
   "cell_type": "code",
   "execution_count": null,
   "id": "27d4e99a",
   "metadata": {},
   "outputs": [],
   "source": [
    "df = dfs.copy()\n",
    "group = df.groupby('author')\n",
    "counts = group.title.count() # number of movies reviewed per author.\n",
    "averages = group.rating.mean() # mean ratings per author\n",
    "\n",
    "averages[counts>100].hist(bins=10, edgecolor='w', lw=1)\n",
    "plt.xlabel(\"Average rating per critic\")\n",
    "plt.ylabel(\"N\")\n",
    "plt.yticks([0, 2, 4, 6, 8, 10])\n",
    "histo_details()"
   ]
  },
  {
   "cell_type": "markdown",
   "id": "b1a979c1",
   "metadata": {},
   "source": [
    "#### For author number'' , Determine whether they like older or newer movies."
   ]
  },
  {
   "cell_type": "code",
   "execution_count": null,
   "id": "ac2f7804",
   "metadata": {},
   "outputs": [],
   "source": []
  },
  {
   "cell_type": "markdown",
   "id": "2ea0ddf0",
   "metadata": {},
   "source": [
    "#### A yearly average of ratings given by top critics was plotted."
   ]
  },
  {
   "cell_type": "code",
   "execution_count": null,
   "id": "e63f0be9",
   "metadata": {},
   "outputs": [],
   "source": [
    "data = dfs[['date','rating']]\n",
    "data.date = [str(el)[-4:] for el in df.date]\n",
    "data.apply(pd.to_numeric(data.date, errors='coerce', downcast=‘integer’))\n",
    "means = data.groupby('date').mean().dropna() # Note when using groupby mean, your new columns are means.\n",
    "\n",
    "plt.plot(data.date, data.rating, 'o', mec='none', alpha=.2, label='Data')\n",
    "plt.plot(means.date, means.rating, '--', label='Yearly Average')\n",
    "plt.legend(loc='lower left', frameon=True)\n",
    "plt.xlabel(\"Year\")\n",
    "plt.ylabel(\"Average Score\")\n",
    "remove_border()"
   ]
  }
 ],
 "metadata": {
  "kernelspec": {
   "display_name": "Python 3 (ipykernel)",
   "language": "python",
   "name": "python3"
  },
  "language_info": {
   "codemirror_mode": {
    "name": "ipython",
    "version": 3
   },
   "file_extension": ".py",
   "mimetype": "text/x-python",
   "name": "python",
   "nbconvert_exporter": "python",
   "pygments_lexer": "ipython3",
   "version": "3.8.12"
  }
 },
 "nbformat": 4,
 "nbformat_minor": 5
}
